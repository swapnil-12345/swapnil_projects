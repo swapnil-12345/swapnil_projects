{
 "cells": [
  {
   "cell_type": "markdown",
   "metadata": {},
   "source": [
    "# write a python function myreduce which works exactly same as python inbuilt reduce function."
   ]
  },
  {
   "cell_type": "code",
   "execution_count": 60,
   "metadata": {},
   "outputs": [
    {
     "name": "stdout",
     "output_type": "stream",
     "text": [
      "15\n",
      "-13\n",
      "120\n",
      "0.008333333333333333\n"
     ]
    }
   ],
   "source": [
    "class TypeError(Exception):  \n",
    "    def __init__(self, value): \n",
    "        self.value = value  \n",
    "    def __str__(self): \n",
    "        return(repr(self.value)) \n",
    "ls=[1,2,3,4,5]\n",
    "def myreduce(func,lst):\n",
    "    try:\n",
    "        if hasattr(lst,'__iter__'):\n",
    "            pass\n",
    "        else:\n",
    "            raise TypeError((str(type(lst)).split())[1][:-1])\n",
    "    except TypeError as e:\n",
    "        return(f'{e.value} object is not iterable')\n",
    "    i=1\n",
    "    value=lst[0]\n",
    "    while(i!=len(lst)):\n",
    "        value=func(value,lst[i])\n",
    "        i+=1\n",
    "    return value\n",
    "\n",
    "    \n",
    "print(myreduce(lambda a,b:a+b,ls))\n",
    "print(myreduce(lambda a,b:a-b,ls))\n",
    "print(myreduce(lambda a,b:a*b,ls))\n",
    "print(myreduce(lambda a,b:a/b,ls))\n",
    "    "
   ]
  },
  {
   "cell_type": "markdown",
   "metadata": {},
   "source": [
    "# write a python code to implement your own myfilter function which works exactly same as inbuilt filter function"
   ]
  },
  {
   "cell_type": "code",
   "execution_count": 75,
   "metadata": {},
   "outputs": [
    {
     "name": "stdout",
     "output_type": "stream",
     "text": [
      "a e i o u\n"
     ]
    }
   ],
   "source": [
    "def func(ls):\n",
    "    c=['a','e','i','o','u']\n",
    "    for i in ls:\n",
    "        if i in c:\n",
    "            return True\n",
    "        else:\n",
    "            return False\n",
    "class TypeError(Exception):  \n",
    "    def __init__(self, value): \n",
    "        self.value = value  \n",
    "    def __str__(self): \n",
    "        return(repr(self.value)) \n",
    "ls=['a','e','i','o','u']\n",
    "def myfilter(func,lst):\n",
    "    try:\n",
    "        if hasattr(lst,'__iter__'):\n",
    "            pass\n",
    "            lst1=[]\n",
    "        else:\n",
    "            raise TypeError((str(type(lst)).split())[1][:-1])\n",
    "    except TypeError as e:\n",
    "        return(f'{e.value} object is not iterable')\n",
    "    i=0\n",
    "    while(i!=len(lst)):\n",
    "        if func(lst[i]):\n",
    "            lst1.append(lst[i])\n",
    "        i+=1\n",
    "    return iter(lst1)\n",
    "print(*[i for i in myfilter(func,ls)])"
   ]
  },
  {
   "cell_type": "markdown",
   "metadata": {},
   "source": [
    "# implement list comprehension"
   ]
  },
  {
   "cell_type": "code",
   "execution_count": 130,
   "metadata": {},
   "outputs": [
    {
     "name": "stdout",
     "output_type": "stream",
     "text": [
      "['x', 'xx', 'xxx', 'xxxx', 'y', 'yy', 'yyy', 'yyyy', 'z', 'zz', 'zzz', 'zzzz']\n",
      "['x', 'y', 'z', 'xx', 'yy', 'zz', 'xxx', 'yyy', 'zzz', 'xxxx', 'yyyy', 'zzzz']\n",
      "[[2], [3], [4], [3], [4], [5], [4], [5], [6]]\n",
      "[[2, 3, 4, 5], [3, 4, 5, 6]]\n",
      "[[4, 5, 6, 7], [5, 6, 7, 8]]\n",
      "[(1, 1), (2, 1), (3, 1), (1, 2), (2, 2), (3, 2), (1, 3), (2, 3), (3, 3)]\n"
     ]
    }
   ],
   "source": [
    "lst=['x','y','z']\n",
    "lst1= [i*j for i in lst for j in range(1,5)]\n",
    "lst2=[j*i for i in range(1,5) for j in lst]\n",
    "lst3=[[j] for i in range(2,5) for j in range(i,i+3)]\n",
    "lst4=[[ls[i] for i in range(j,j+4)] for j in range(0,2)]\n",
    "lst5=[[ls1[i] for i in range(j,j+4)] for j in range(0,2)]\n",
    "lst6=[(j,i) for i in range(1,4) for j in range(1,4)]\n",
    "print(lst1)\n",
    "print(lst2)\n",
    "print(lst3)\n",
    "print(lst4)\n",
    "print(lst5)\n",
    "print(lst6)"
   ]
  },
  {
   "cell_type": "code",
   "execution_count": null,
   "metadata": {},
   "outputs": [],
   "source": [
    "\n"
   ]
  }
 ],
 "metadata": {
  "kernelspec": {
   "display_name": "Python 3",
   "language": "python",
   "name": "python3"
  },
  "language_info": {
   "codemirror_mode": {
    "name": "ipython",
    "version": 3
   },
   "file_extension": ".py",
   "mimetype": "text/x-python",
   "name": "python",
   "nbconvert_exporter": "python",
   "pygments_lexer": "ipython3",
   "version": "3.7.6"
  }
 },
 "nbformat": 4,
 "nbformat_minor": 4
}
