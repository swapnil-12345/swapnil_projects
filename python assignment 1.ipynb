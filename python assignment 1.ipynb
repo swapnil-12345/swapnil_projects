{
 "cells": [
  {
   "cell_type": "markdown",
   "metadata": {},
   "source": [
    "# 1. write a program which will find all such numbers which are divisible by 7 but not a multiple of 5 between 2000 and 3200(both included) the numbers obtained should be printd in comma seperated sequence on a single line"
   ]
  },
  {
   "cell_type": "code",
   "execution_count": null,
   "metadata": {},
   "outputs": [],
   "source": [
    "\n",
    "lst1=[i for i in range(2000,3201,1) if i%7==0 and i%5!=0 ]\n",
    "print(','.join([ str(i) for i in lst]))"
   ]
  },
  {
   "cell_type": "markdown",
   "metadata": {},
   "source": [
    "# 2. write a python program to accept users first name and last name and then getting them printed in the reverse oreder with a space between first name and last name"
   ]
  },
  {
   "cell_type": "code",
   "execution_count": 1,
   "metadata": {},
   "outputs": [
    {
     "name": "stdout",
     "output_type": "stream",
     "text": [
      "koushik mishra\n",
      "kihsuok arhsim\n"
     ]
    }
   ],
   "source": [
    "name=list(map(str,input().split()))\n",
    "print(' '.join(i[::-1] for i in name ))\n"
   ]
  },
  {
   "cell_type": "markdown",
   "metadata": {},
   "source": [
    "# 3.write a python program to find the volume of a sphere with diameter 12 cm FORMULA: V=4/3*pi*r"
   ]
  },
  {
   "cell_type": "code",
   "execution_count": 12,
   "metadata": {},
   "outputs": [
    {
     "name": "stdout",
     "output_type": "stream",
     "text": [
      "12\n",
      "the volume of sphere is: 7238.229473870882 sq.mt\n"
     ]
    }
   ],
   "source": [
    "from math import pi\n",
    "print(f'the volume of sphere is: {((4/3)*pi*(int(input())**3)} sq.mt')"
   ]
  },
  {
   "cell_type": "markdown",
   "metadata": {},
   "source": [
    "## "
   ]
  }
 ],
 "metadata": {
  "kernelspec": {
   "display_name": "Python 3",
   "language": "python",
   "name": "python3"
  },
  "language_info": {
   "codemirror_mode": {
    "name": "ipython",
    "version": 3
   },
   "file_extension": ".py",
   "mimetype": "text/x-python",
   "name": "python",
   "nbconvert_exporter": "python",
   "pygments_lexer": "ipython3",
   "version": "3.7.6"
  }
 },
 "nbformat": 4,
 "nbformat_minor": 4
}
